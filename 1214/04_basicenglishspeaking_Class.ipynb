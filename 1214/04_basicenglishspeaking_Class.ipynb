{
 "cells": [
  {
   "cell_type": "code",
   "execution_count": 1,
   "metadata": {},
   "outputs": [],
   "source": [
    "import warnings\n",
    "warnings.filterwarnings('ignore')"
   ]
  },
  {
   "cell_type": "code",
   "execution_count": 2,
   "metadata": {},
   "outputs": [],
   "source": [
    "import requests\n",
    "from bs4 import BeautifulSoup\n",
    "import time # sleep() 메소드를 사용하기 위해 import 한다."
   ]
  },
  {
   "cell_type": "code",
   "execution_count": 27,
   "metadata": {},
   "outputs": [],
   "source": [
    "# 한 건의 대화 정보를 저장하는 클래스 => 질문과 답변을 한 쌍으로 저장한다.\n",
    "class Conversation:\n",
    "    # 생성자 => 클래스의 객체(클래스로 만든 변수)가 생성될 때 자동으로 실행되는 함수로 클래스의 멤버 변수(self가 앞에 붙은 \n",
    "    # 변수)를 초기화 시키는 목적으로 주로 사용된다.\n",
    "    # 클래스 내부에서 정의하는 모든 함수는 무조건 첫 번째 인수로 자기 자신의 객체가 메모리에 생성된 주소가 넘어온다.\n",
    "    # => 클래스 내부에서 정의하는 함수의 첫 번째 인수는 무조건 'self'를 써야한다.\n",
    "    def __init__(self, question, answer):\n",
    "        # print('Conversation 클래스의 생성자가 자동으로 실행됩니다.')\n",
    "        # print(self)\n",
    "        # 생성자의 인수로 넘겨받은 데이터로 멤버 변수를 초기화 시킨다.\n",
    "        # 멤버 변수는 자기 자신의 객체가 메모리에 생성된 주소가 저장된 self를 사용해서 선언해야 한다.\n",
    "        # self를 사용해서 만든 변수를 멤버 변수라 부르고 클래스 내부의 모든 함수에서 사용할 수 있다.\n",
    "        # 하지만 self를 사용해서 만들지 않은 변수는 지역 변수라 부르고 변수가 선언된 함수 내부에서만 사용할 수 있다.\n",
    "        self.question = question # 질문을 기억하는 멤버 변수를 선언하고 초기화 시킨다.\n",
    "        self.answer = answer     # 답변을 기억하는 멤버 변수를 선언하고 초기화 시킨다.\n",
    "        \n",
    "    # 클래스로 선언한 객체를 출력할 때 출력할 데이터를 만드는 함수 => 출력할 데이터의 형태를 만들어 반드시 문자열로\n",
    "    # 리턴시킨다.\n",
    "    # 이 함수를 만들지 않으면 객체를 출력하면 객체에 저장된 내용이 아니라 객체가 메모리에 생성된 주소가 출력된다.\n",
    "    def __str__(self):\n",
    "        return '질문 : ' + self.question + '\\n답변 : ' + self.answer"
   ]
  },
  {
   "cell_type": "code",
   "execution_count": 28,
   "metadata": {},
   "outputs": [
    {
     "name": "stdout",
     "output_type": "stream",
     "text": [
      "질문 : 넌 이름이 뭐니?\n",
      "답변 : 그래서 어쩌라구요!!!\n"
     ]
    }
   ],
   "source": [
    "# 클래스의 객체 생성 방법\n",
    "# 객체(변수)이름 = 클래스이름([생성자로 전달할 데이터]) => 전달할 데이터가 없다고 해서 ()를 생략하면 안된다.\n",
    "obj = Conversation('넌 이름이 뭐니?', '그래서 어쩌라구요!!!')\n",
    "print(obj)"
   ]
  },
  {
   "cell_type": "code",
   "execution_count": 41,
   "metadata": {},
   "outputs": [],
   "source": [
    "# 75개의 대화 주제와 세부 대화 내용의 url을 크롤링해서 리턴하는 함수\n",
    "def getSubject():\n",
    "    subjects = []     # 대화 주제를 저장해서 리턴시킬 빈 리스트를 만든다.\n",
    "    contentLinks = [] # 대화 주제에 따른 세부 대화 내용의 url을 저장해서 리턴시킬 빈 리스트를 만든다.\n",
    "    request = requests.get('https://basicenglishspeaking.com/daily-english-conversation-topics/')\n",
    "    html = request.text\n",
    "    soup = BeautifulSoup(html, 'html.parser')\n",
    "    divs = soup.findAll('div', {'class': 'tcb-flex-col'})\n",
    "    for div in divs:\n",
    "        chapters = div.findAll('a')\n",
    "        for chapter in chapters:\n",
    "            # print(chapter)\n",
    "            # print(chapter.text)\n",
    "            subjects.append(chapter.text)\n",
    "            # 대화 내용의 url을 리스트에 추가한다.\n",
    "            # get('속성이름') : 인수로 지정된 속성의 값을 얻어온다.\n",
    "            # print(chapter.get('href'))\n",
    "            contentLinks.append(chapter.get('href'))\n",
    "    # 대화 주제가 저장된 리스트와 대화 주제에 따른 대화 내용의 url이 저장된 리스트를 리턴시킨다.\n",
    "    # 데이터를 ','로 구분해서 나열하면 ()로 묶지 않아도 자동으로 튜플로 인식한다.\n",
    "    return subjects, contentLinks # 리스트 3개를 리턴하는 것이 아니고 튜플 1개를 리턴한다."
   ]
  },
  {
   "cell_type": "code",
   "execution_count": 66,
   "metadata": {},
   "outputs": [
    {
     "name": "stdout",
     "output_type": "stream",
     "text": [
      "총 75개의 대화 주제를 찾았습니다.\n"
     ]
    }
   ],
   "source": [
    "if __name__ == '__main__':\n",
    "    subjects, contentLinks = getSubject()\n",
    "    # for i in range(len(subjects)):\n",
    "        # print('{0:2d}. {1} - {2}'.format(i + 1, subjects[i], contentLinks[i]))\n",
    "    print('총 {}개의 대화 주제를 찾았습니다.'.format(len(subjects)))\n",
    "    \n",
    "    # 대화 주제에 따른 모든 대화 내용을 저장할 빈 리스트를 만든다.\n",
    "    conversation = [] # 질문과 대답이 한 쌍으로 저장된 Conversation 클래스 객체가 저장된다.\n",
    "    \n",
    "    i = 0 # 대화 주제의 개수를 카운트하는 변수\n",
    "    # 대화 주제의 개수 만큼 반복하며 대화 내용을 얻어온다.\n",
    "    for subject in subjects[:2]:\n",
    "        # print(subject)\n",
    "        conversation.append('{0:2d}. {1} - {2}'.format(i + 1, subjects[i], contentLinks[i]))\n",
    "        \n",
    "        # 대화 주제별 대화 내용을 크롤링할 페이지를 요청한다.\n",
    "        request = requests.get(contentLinks[i])\n",
    "        \n",
    "        # time 모듈을 import 하면 sleep() 메소드를 사용할 수 있다.\n",
    "        # sleep() 메소드는 인수로 지정된 시간 만큼 프로그램을 멈춘다. => 시간은 초 단위로 지정한다.\n",
    "        # 대형 포털 사이트는 짧은 간격으로 많은 요청이 들어오면 자기네 사이트가 공격당하는 것으로 판단할 수 있기 때문에\n",
    "        # 일정한 시간 간격을 두고 사이트의 정보를 요청하는 것이 좋다.\n",
    "        # 어떤 페이지를 요청했을 때 요청한 페이지가 로딩되는 시간 만큼 기다리기 위해 일정한 시간 간격을 두고 정보를\n",
    "        # 요청하기도 한다.\n",
    "        time.sleep(1)\n",
    "        \n",
    "        html = request.text\n",
    "        soup = BeautifulSoup(html, 'html.parser')\n",
    "        \n",
    "        # 주제에 따른 대화 내용은 class 속성이 'sc_player_container1'인 div 태그의 바로 다음 형제이다.\n",
    "        divs = soup.findAll('div', {'class': 'sc_player_container1'}) # ▶ 버튼을 얻어온다.\n",
    "        # print(divs)\n",
    "        \n",
    "        # 각각의 대화 주제에 따른 대화 내용을 플레이하는 버튼의 개수 만큼 반복한다.\n",
    "        for div in divs:\n",
    "            # index() : 인수로 지정된 객체의 index(일련) 번호를 얻어온다.\n",
    "            # divs.index(div) => 대화 내용 전체(divs)에서 특정 대화(div)의 index를 얻어온다.\n",
    "            # index() 메소드의 실행 결과가 짝수면 질문이고 홀수면 답변이다.\n",
    "            # print(divs.index(div))\n",
    "        \n",
    "            # 크롤링할 데이터가 특정 태그 내부에 있지 않고 class 속성이 'sc_player_container1'인 div 태그의 다음 형제로\n",
    "            # 작성되어 있다.\n",
    "            # next_sibling     => 다음 형제 노드로 접근한다.\n",
    "            # previous_sibling => 이전 형제 노드로 접근한다.\n",
    "            if divs.index(div) % 2 == 0: # index가 짝수인가?, 질문인감?\n",
    "                question = div.next_sibling # 인덱스 번호가 짝수면 질문 변수에 질문을 저장한다.\n",
    "                # print('question : ' + question)\n",
    "            else:\n",
    "                answer = div.next_sibling   # 인덱스 번호가 홀수면 답변 변수에 질문을 저장한다.\n",
    "                # print('answer : ' + answer)\n",
    "                \n",
    "                # 질문과 답변이 한 쌍이 되었으므로 Conversation 클래스 객체를 생성하고 질문과 답변을 저장한다.\n",
    "                c = Conversation(question, answer)\n",
    "                # print(c)\n",
    "                # 질문과 답변이 한 쌍으로 저장된 Conversation 클래스 객체를 대화 내용을 저장하는 conversation 리스트에\n",
    "                # 저장한다.\n",
    "                conversation.append(c)\n",
    "        \n",
    "        # 대화 주제 1건이 처리 완료되었으므로 다음 대화를 처리하기 위해서 i의 값을 1증가 시킨다.\n",
    "        i += 1"
   ]
  },
  {
   "cell_type": "code",
   "execution_count": 67,
   "metadata": {},
   "outputs": [
    {
     "name": "stdout",
     "output_type": "stream",
     "text": [
      " 1. Family - https://basicenglishspeaking.com/family/\n",
      "질문 : How many people are there in your family?\n",
      "답변 : There are 5 people in my family: my father, mother, brother, sister, and me.\n",
      "질문 : Does your family live in a house or an apartment?\n",
      "답변 : We live in a house in the countryside.\n",
      "질문 : What does your father do?\n",
      "답변 : My father is a doctor. He works at the local hospital.\n",
      "질문 : How old is your mother?\n",
      "답변 : She is 40 years old, 1 year younger than my father.\n",
      "질문 : Do you have any siblings? What’s his/her name?\n",
      "답변 : Yes, I do. I have 1 elder brother, David, and 1 younger sister, Mary.\n",
      "질문 : Are you the oldest amongst your brothers and sisters?\n",
      "답변 : No, I’m not. I’m the second child in my family.\n",
      "질문 : What do your mother/father like?\n",
      "답변 : My father likes playing football and my mother likes cooking.\n",
      "질문 : Do your parents let you stay out late?\n",
      "답변 : Of course not. They always ask me to get home before 10 pm each night.\n",
      "질문 : Do you stay with your parents?\n",
      "답변 : Right now, no, but I used to.\n",
      "질문 : Does your family usually have dinner together?\n",
      "답변 : Yes, we do. My mom always prepares delicious meals for us.\n",
      " 2. Restaurant - https://basicenglishspeaking.com/restaurant/\n",
      "질문 : How often do you eat out? Who do you go with?\n",
      "답변 : I often eat out on weekends, when I hang out with my friends.\n",
      "질문 : What restaurant do you usually visit?\n",
      "답변 : Well, there are not many restaurants in my neighborhood, so my best choice is the deli in convenient stores like the Circle K, Mini-Stop, B-smart.\n",
      "질문 : What type of food do you enjoy to eat? Western or Asian?\n",
      "답변 : I’m interested in Asian food, Western food is not my thing.\n",
      "질문 : How much do you usually pay when you eat out?\n",
      "답변 : It’s not very expensive, just around $5 for each meal.\n",
      "질문 : Do you enjoy spicy food?\n",
      "답변 : Yes, I do, especially on cold days.\n",
      "질문 : Are the servers there friendly to you?\n",
      "답변 : Yes, they are. Most of them are really helpful.\n",
      "질문 : Have you ever tried Italian food?\n",
      "답변 : Yes, at least once, when I was in my friend’s wedding party.\n",
      "질문 : Are you concerned about calories when eating out?\n",
      "답변 : Yes, I am. I’m on diet now, so this really matters to me.\n",
      "질문 : Are fast food restaurants like KFC or McDonald’s famous in your country?\n",
      "답변 : Yes, they are. The youth in my country are big fans of fast food.\n",
      "질문 : Do you often drink alcohol when eating out?\n",
      "답변 : No, not often. Just when I have parties with my friends.\n"
     ]
    }
   ],
   "source": [
    "for c in conversation:\n",
    "    print(c)"
   ]
  },
  {
   "cell_type": "code",
   "execution_count": null,
   "metadata": {},
   "outputs": [],
   "source": []
  },
  {
   "cell_type": "code",
   "execution_count": null,
   "metadata": {},
   "outputs": [],
   "source": []
  },
  {
   "cell_type": "code",
   "execution_count": null,
   "metadata": {},
   "outputs": [],
   "source": []
  },
  {
   "cell_type": "code",
   "execution_count": null,
   "metadata": {},
   "outputs": [],
   "source": []
  },
  {
   "cell_type": "code",
   "execution_count": null,
   "metadata": {},
   "outputs": [],
   "source": []
  },
  {
   "cell_type": "code",
   "execution_count": null,
   "metadata": {},
   "outputs": [],
   "source": []
  },
  {
   "cell_type": "code",
   "execution_count": null,
   "metadata": {},
   "outputs": [],
   "source": []
  }
 ],
 "metadata": {
  "kernelspec": {
   "display_name": "Python 3",
   "language": "python",
   "name": "python3"
  },
  "language_info": {
   "codemirror_mode": {
    "name": "ipython",
    "version": 3
   },
   "file_extension": ".py",
   "mimetype": "text/x-python",
   "name": "python",
   "nbconvert_exporter": "python",
   "pygments_lexer": "ipython3",
   "version": "3.6.8"
  }
 },
 "nbformat": 4,
 "nbformat_minor": 4
}
