{
 "cells": [
  {
   "cell_type": "code",
   "execution_count": 1,
   "metadata": {},
   "outputs": [],
   "source": [
    "import warnings\n",
    "warnings.filterwarnings('ignore')\n",
    "import requests\n",
    "from bs4 import BeautifulSoup\n",
    "from datetime import datetime as dt\n",
    "header = {'User-agent': 'Mozilla/5.0 (Windows NT 6.1; WOW64; Trident/7.0; rv:11.0) like Gecko'}"
   ]
  },
  {
   "cell_type": "code",
   "execution_count": 2,
   "metadata": {},
   "outputs": [
    {
     "name": "stdout",
     "output_type": "stream",
     "text": [
      "dict_keys(['1', '2', '3', '4', '5', '6'])\n",
      "https://datalab.naver.com/keyword/realtimeList.naver?age=10s&entertainment=0&groupingLevel=2&marketing=0&news=0&sports=0&where=main\n",
      "https://datalab.naver.com/keyword/realtimeList.naver?age=20s&entertainment=0&groupingLevel=2&marketing=0&news=0&sports=0&where=main\n",
      "https://datalab.naver.com/keyword/realtimeList.naver?age=30s&entertainment=0&groupingLevel=2&marketing=0&news=0&sports=0&where=main\n",
      "https://datalab.naver.com/keyword/realtimeList.naver?age=40s&entertainment=0&groupingLevel=2&marketing=0&news=0&sports=0&where=main\n",
      "https://datalab.naver.com/keyword/realtimeList.naver?age=50s&entertainment=0&groupingLevel=2&marketing=0&news=0&sports=0&where=main\n",
      "https://datalab.naver.com/keyword/realtimeList.naver?age=all&entertainment=0&groupingLevel=2&marketing=0&news=0&sports=0&where=main\n"
     ]
    }
   ],
   "source": [
    "# https://datalab.naver.com/keyword/realtimeList.naver\n",
    "#    ?age=10s&entertainment=0&groupingLevel=2&marketing=0&news=0&sports=0&where=main\n",
    "# https://datalab.naver.com/keyword/realtimeList.naver\n",
    "#    ?age=20s&entertainment=0&groupingLevel=2&marketing=0&news=0&sports=0&where=main\n",
    "# https://datalab.naver.com/keyword/realtimeList.naver\n",
    "#    ?age=30s&entertainment=0&groupingLevel=2&marketing=0&news=0&sports=0&where=main\n",
    "# https://datalab.naver.com/keyword/realtimeList.naver\n",
    "#    ?age=40s&entertainment=0&groupingLevel=2&marketing=0&news=0&sports=0&where=main\n",
    "# https://datalab.naver.com/keyword/realtimeList.naver\n",
    "#    ?age=50s&entertainment=0&groupingLevel=2&marketing=0&news=0&sports=0&where=main\n",
    "# https://datalab.naver.com/keyword/realtimeList.naver\n",
    "#    ?age=all&entertainment=0&groupingLevel=2&marketing=0&news=0&sports=0&where=main\n",
    "ageList = {'1': '10s', '2': '20s', '3': '30s', '4': '40s', '5': '50s', '6': 'all'}\n",
    "url1 = 'https://datalab.naver.com/keyword/realtimeList.naver?age='\n",
    "url2 = '&entertainment=0&groupingLevel=2&marketing=0&news=0&sports=0&where=main'\n",
    "print(ageList.keys())\n",
    "for key in ageList.keys():\n",
    "    print('{}{}{}'.format(url1, ageList[key], url2))"
   ]
  },
  {
   "cell_type": "code",
   "execution_count": 11,
   "metadata": {
    "scrolled": false
   },
   "outputs": [
    {
     "name": "stdout",
     "output_type": "stream",
     "text": [
      "연령대를 입력하세요(1 => 10대, 2 => 20대, 3 => 30대, 4 => 40대, 5 => 50대, 6 => 전체) : 3\n",
      " 1위 : 정일훈\n",
      " 2위 : 5인이상 집합금지\n",
      " 3위 : 은수미\n",
      " 4위 : 애동지\n",
      " 5위 : 김포골드라인\n",
      " 6위 : 쌍용차\n",
      " 7위 : 현자\n",
      " 8위 : 목성 토성\n",
      " 9위 : 양지윤\n",
      "10위 : 백혈병\n",
      "11위 : 정일훈 마약\n",
      "12위 : 백반기행 마포 만두\n",
      "13위 : 구하라 재산\n",
      "14위 : 제 7기사단\n",
      "15위 : 골든일레븐\n",
      "16위 : 영국 코로나 변종\n",
      "17위 : 오퀴즈 8시정답\n",
      "18위 : 구하라\n",
      "19위 : 도둑들\n",
      "20위 : 엘리엇 페이지\n"
     ]
    }
   ],
   "source": [
    "# 연령대별 검색어만 클롤링\n",
    "ageList = {'1': '10s', '2': '20s', '3': '30s', '4': '40s', '5': '50s', '6': 'all'}\n",
    "url1 = 'https://datalab.naver.com/keyword/realtimeList.naver?age='\n",
    "url2 = '&entertainment=0&groupingLevel=2&marketing=0&news=0&sports=0&where=main'\n",
    "key = input('연령대를 입력하세요(1 => 10대, 2 => 20대, 3 => 30대, 4 => 40대, 5 => 50대, 6 => 전체) : ')\n",
    "targetSite = '{}{}{}'.format(url1, ageList[key], url2)\n",
    "# print(targetSite)\n",
    "\n",
    "request = requests.get(targetSite, headers = header)\n",
    "# print(request)\n",
    "html = request.text\n",
    "soup = BeautifulSoup(html, 'html.parser')\n",
    "# print(soup)\n",
    "\n",
    "titles = soup.findAll('span', {'class': 'item_title'})\n",
    "for i in range(len(titles)):\n",
    "    print('{0:2d}위 : {1}'.format(i + 1, titles[i].text))"
   ]
  },
  {
   "cell_type": "code",
   "execution_count": 26,
   "metadata": {},
   "outputs": [
    {
     "name": "stdout",
     "output_type": "stream",
     "text": [
      "연령대를 입력하세요(1 => 10대, 2 => 20대, 3 => 30대, 4 => 40대, 5 => 50대, 6 => 전체) : 2\n",
      " 1위 : 정일훈 ['비투비', '비투비 정일훈', '일훈', '비투비 일훈']\n",
      " 2위 : 정일훈 마약 ['정일훈 군대']\n",
      " 3위 : 5인이상 집합금지 ['코로나 집합금지', '5인이상 집합금지 식당', '5인이상 집합금지 회사', '나스닥']\n",
      " 4위 : 김포골드라인 ['김포 지하철']\n",
      " 5위 : 케스파컵 ['2021 케스파컵']\n",
      " 6위 : 애동지 \n",
      " 7위 : 쌍용차 ['쌍용', '쌍용자동차']\n",
      " 8위 : 실족사 \n",
      " 9위 : 큐브엔터테인먼트 \n",
      "10위 : 은수미 \n",
      "11위 : 골든일레븐 \n",
      "12위 : 목성 토성 \n",
      "13위 : 아리아나 그란데 \n",
      "14위 : 구하라 \n",
      "15위 : 영국 코로나 변종 \n",
      "16위 : 현자 \n",
      "17위 : 지하철 \n",
      "18위 : 체스카 \n",
      "19위 : 김포 \n",
      "20위 : 홍반장 \n"
     ]
    }
   ],
   "source": [
    "# 연령대별 검색어와 이슈 묶어보기 크롤링\n",
    "ageList = {'1': '10s', '2': '20s', '3': '30s', '4': '40s', '5': '50s', '6': 'all'}\n",
    "url1 = 'https://datalab.naver.com/keyword/realtimeList.naver?age='\n",
    "url2 = '&entertainment=0&groupingLevel=2&marketing=0&news=0&sports=0&where=main'\n",
    "key = input('연령대를 입력하세요(1 => 10대, 2 => 20대, 3 => 30대, 4 => 40대, 5 => 50대, 6 => 전체) : ')\n",
    "targetSite = '{}{}{}'.format(url1, ageList[key], url2)\n",
    "\n",
    "request = requests.get(targetSite, headers = header)\n",
    "html = request.text\n",
    "soup = BeautifulSoup(html, 'html.parser')\n",
    "# print(soup)\n",
    "\n",
    "ranks = soup.findAll('li', {'class': 'ranking_item'})\n",
    "# print(ranks[0])\n",
    "dataLab = []\n",
    "for rank in ranks:\n",
    "    # print(rank.find('span', {'class': 'item_title'}))\n",
    "    title = rank.find('span', {'class': 'item_title'}).text\n",
    "    # print(title)\n",
    "    # print(rank.find('span', {'class': 'item_title_sub'}))\n",
    "    subTitle = []\n",
    "    try:\n",
    "        subs = rank.find('span', {'class': 'item_title_sub'}).text.split(',')\n",
    "        for sub in subs:\n",
    "            subTitle.append(sub.strip())\n",
    "    except:\n",
    "        pass\n",
    "    # print(subTitle)\n",
    "    dataLab.append([title, subTitle])\n",
    "\n",
    "for i in range(len(titles)):\n",
    "    print('{0:2d}위 : {1} {2}'.format(i + 1, dataLab[i][0], \\\n",
    "                                       dataLab[i][1] if len(dataLab[i][1]) != 0 else ''))"
   ]
  },
  {
   "cell_type": "code",
   "execution_count": null,
   "metadata": {},
   "outputs": [],
   "source": []
  },
  {
   "cell_type": "code",
   "execution_count": null,
   "metadata": {},
   "outputs": [],
   "source": []
  },
  {
   "cell_type": "code",
   "execution_count": null,
   "metadata": {},
   "outputs": [],
   "source": []
  },
  {
   "cell_type": "code",
   "execution_count": null,
   "metadata": {},
   "outputs": [],
   "source": []
  },
  {
   "cell_type": "code",
   "execution_count": null,
   "metadata": {},
   "outputs": [],
   "source": []
  },
  {
   "cell_type": "code",
   "execution_count": null,
   "metadata": {},
   "outputs": [],
   "source": []
  }
 ],
 "metadata": {
  "kernelspec": {
   "display_name": "Python 3",
   "language": "python",
   "name": "python3"
  },
  "language_info": {
   "codemirror_mode": {
    "name": "ipython",
    "version": 3
   },
   "file_extension": ".py",
   "mimetype": "text/x-python",
   "name": "python",
   "nbconvert_exporter": "python",
   "pygments_lexer": "ipython3",
   "version": "3.6.8"
  }
 },
 "nbformat": 4,
 "nbformat_minor": 4
}
