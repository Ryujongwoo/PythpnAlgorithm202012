{
 "cells": [
  {
   "cell_type": "code",
   "execution_count": 57,
   "metadata": {},
   "outputs": [],
   "source": [
    "class Stack:\n",
    "    # Stack 클래스가 생성될 때 스택의 크기를 넘겨받으면 넘겨받은 크기 만큼의 기억 공간을 가지는 스택을 생성하고 크기를 넘겨받지 \n",
    "    # 않으면 5개의 데이터를 저장할 수 있는 스택을 만든다. => default 인수를 사용하면 된다.\n",
    "    def __init__(self, size = 5):\n",
    "        # print('Stack 클래스의 객체가 생성될 때 자동으로 실행된다.')\n",
    "        # print('Stack 클래스 객체가 메모리에 생성된 주소 : {}'.format(self))\n",
    "        # print('스택의 크기는 {}개'.format(size))\n",
    "        # 생성자 함수에서 스택을 만든다.\n",
    "        self.stack = []  # stack => 빈 리스트 => 데이터는 append() 메소드로 추가한다.\n",
    "        self.size = size # 스택의 크기\n",
    "        # top, SP(Stack Pointer) => stack에 몇 개의 데이터가 저장되어있나 기억한다. => 데이터가 입력되면 1증가, 출력되면 1감소\n",
    "        self.top = 0\n",
    "        \n",
    "    # push => 입력\n",
    "    def push(self, data):\n",
    "        if data not in self.stack: # 스택에 추가하려는 데이터가 스택에 존재하지 않는가?\n",
    "            # overflow인가 검사한다.\n",
    "            # 스택의 크기(size)가 5일 때 스택으로 사용할 리스트의 인덱스(top)은 0, 1, 2, 3, 4 만 가능하다.\n",
    "            if self.top < self.size:\n",
    "                # overflow가 발생되지 않았으므로 스택에 데이터를 추가한다.\n",
    "                self.stack.append(data) # 스택에 데이터를 추가한다.\n",
    "                self.top += 1           # 스택에 데이터를 추가했으므로 SP를 1증가 시킨다.\n",
    "            else:\n",
    "                # overflow가 발생되면 스택이 가득찼다는 메시지를 출력한다.\n",
    "                print('overflow... 스택이 가득차서 {}를(을) 저장할 수 없습니다.'.format(data))\n",
    "            # ===== if\n",
    "        else:\n",
    "            # 추가하려는 데이터가 스택에 존재하기 때문에 중복된 데이터라는 메시지를 출력한다.\n",
    "            print('{}는(은) 중복된 데이터 입니다.'.format(data))\n",
    "        self.view()\n",
    "    \n",
    "    # pop => 출력\n",
    "    def pop(self):\n",
    "        # underflow인가 검사한다.\n",
    "        if self.top <= 0:\n",
    "            print('스택에 저장된 데이터가 없습니다.')\n",
    "        else:\n",
    "            # 파이썬의 list 메소드 중에서 pop() 메소드를 사용해서 스택에 저장된 데이터를 얻어온 후 제거한다.\n",
    "            data = self.stack.pop() # 스택에 저장된 데이터를 얻어온 후 제거한다.\n",
    "            self.top -= 1           # 스택에 저장된 데이터를 제거했으므로 SP를 1감소 시킨다.\n",
    "            print('pop 데이터 : {}'.format(data), end = ', ')\n",
    "            self.view()\n",
    "    \n",
    "    # view => 스택에 저장된 데이터 보기\n",
    "    def view(self):\n",
    "        # 스택에 저장된 데이터를 출력한다.\n",
    "        print('스택에 저장된 데이터 => ', end = '')\n",
    "        # underflow인가 검사한다.\n",
    "        if self.top <= 0:\n",
    "            # 스택에 저장된 데이터가 없으므로 없다고 출력한다.\n",
    "            print('없음', end = '')\n",
    "        else:\n",
    "            # 스택에 저장된 데이터의 개수만큼 반복하며 스택에 저장된 데이터를 출력한다.\n",
    "            for i in range(self.top):\n",
    "                if i > 0:\n",
    "                    print(', ', end = '')\n",
    "                print(self.stack[i], end = '')\n",
    "            # ==== if\n",
    "        print()"
   ]
  },
  {
   "cell_type": "code",
   "execution_count": 60,
   "metadata": {},
   "outputs": [
    {
     "name": "stdout",
     "output_type": "stream",
     "text": [
      "스택에 저장된 데이터 => 없음\n",
      "스택에 저장된 데이터 => 111\n",
      "스택에 저장된 데이터 => 111, 3.151952\n",
      "스택에 저장된 데이터 => 111, 3.151952, 555\n",
      "111는(은) 중복된 데이터 입니다.\n",
      "스택에 저장된 데이터 => 111, 3.151952, 555\n",
      "스택에 저장된 데이터 => 111, 3.151952, 555, 수요일\n",
      "스택에 저장된 데이터 => 111, 3.151952, 555, 수요일, True\n",
      "overflow... 스택이 가득차서 777를(을) 저장할 수 없습니다.\n",
      "스택에 저장된 데이터 => 111, 3.151952, 555, 수요일, True\n",
      "================================================================================\n",
      "스택에 저장된 데이터 => 111, 3.151952, 555, 수요일, True\n",
      "================================================================================\n",
      "pop 데이터 : True, 스택에 저장된 데이터 => 111, 3.151952, 555, 수요일\n",
      "pop 데이터 : 수요일, 스택에 저장된 데이터 => 111, 3.151952, 555\n",
      "pop 데이터 : 555, 스택에 저장된 데이터 => 111, 3.151952\n",
      "pop 데이터 : 3.151952, 스택에 저장된 데이터 => 111\n",
      "pop 데이터 : 111, 스택에 저장된 데이터 => 없음\n",
      "스택에 저장된 데이터가 없습니다.\n"
     ]
    }
   ],
   "source": [
    "# 현재 파일이 다른 파일에 모듈로 import 될 때 if __name__ == '__main__': 내부에 코딩한 내용은 자동으로 실행되지 않는다.\n",
    "if __name__ == '__main__':\n",
    "    # 테스트 코드\n",
    "    stack = Stack()\n",
    "    stack.view()\n",
    "    stack.push(111)\n",
    "    stack.push(3.151952)\n",
    "    stack.push(555)\n",
    "    stack.push(111)\n",
    "    stack.push('수요일')\n",
    "    stack.push(True)\n",
    "    stack.push(777)\n",
    "    print('=' * 80)\n",
    "    stack.view()\n",
    "    print('=' * 80)\n",
    "    stack.pop()\n",
    "    stack.pop()\n",
    "    stack.pop()\n",
    "    stack.pop()\n",
    "    stack.pop()\n",
    "    stack.pop()"
   ]
  },
  {
   "cell_type": "code",
   "execution_count": null,
   "metadata": {},
   "outputs": [],
   "source": []
  },
  {
   "cell_type": "code",
   "execution_count": null,
   "metadata": {},
   "outputs": [],
   "source": []
  },
  {
   "cell_type": "code",
   "execution_count": null,
   "metadata": {},
   "outputs": [],
   "source": []
  },
  {
   "cell_type": "code",
   "execution_count": null,
   "metadata": {},
   "outputs": [],
   "source": []
  },
  {
   "cell_type": "code",
   "execution_count": null,
   "metadata": {},
   "outputs": [],
   "source": []
  }
 ],
 "metadata": {
  "kernelspec": {
   "display_name": "Python 3",
   "language": "python",
   "name": "python3"
  },
  "language_info": {
   "codemirror_mode": {
    "name": "ipython",
    "version": 3
   },
   "file_extension": ".py",
   "mimetype": "text/x-python",
   "name": "python",
   "nbconvert_exporter": "python",
   "pygments_lexer": "ipython3",
   "version": "3.6.8"
  }
 },
 "nbformat": 4,
 "nbformat_minor": 4
}
