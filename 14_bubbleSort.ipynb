{
 "cells": [
  {
   "cell_type": "code",
   "execution_count": 2,
   "metadata": {},
   "outputs": [
    {
     "data": {
      "image/png": "[encoded data removed]",
      "text/plain": [
       "<IPython.core.display.Image object>"
      ]
     },
     "execution_count": 2,
     "metadata": {
      "image/png": {
       "width": "1000"
      }
     },
     "output_type": "execute_result"
    }
   ],
   "source": [
    "from IPython.display import Image\n",
    "Image('./bubbleSort.png', width = '1000')\n",
    "# bubble Sort는 인접한 두 데이터를 비교하며 정렬한다."
   ]
  },
  {
   "cell_type": "code",
   "execution_count": 4,
   "metadata": {},
   "outputs": [
    {
     "name": "stdout",
     "output_type": "stream",
     "text": [
      "i = 0, j = 0\n",
      "i = 0, j = 1\n",
      "i = 0, j = 2\n",
      "i = 0, j = 3\n",
      "i = 1, j = 0\n",
      "i = 1, j = 1\n",
      "i = 1, j = 2\n",
      "i = 2, j = 0\n",
      "i = 2, j = 1\n",
      "i = 3, j = 0\n"
     ]
    }
   ],
   "source": [
    "for i in range(4):\n",
    "    for j in range(5 - i - 1):\n",
    "        print('i = {}, j = {}'.format(i, j))"
   ]
  },
  {
   "cell_type": "code",
   "execution_count": 6,
   "metadata": {},
   "outputs": [
    {
     "name": "stdout",
     "output_type": "stream",
     "text": [
      "1 회전 결과 : [3, 4, 8, 1, 9]\n",
      "2 회전 결과 : [3, 4, 1, 8, 9]\n",
      "3 회전 결과 : [3, 1, 4, 8, 9]\n",
      "4 회전 결과 : [1, 3, 4, 8, 9]\n"
     ]
    }
   ],
   "source": [
    "sortData = [8, 3, 4, 9, 1]\n",
    "for i in range(len(sortData) - 1):\n",
    "    for j in range(len(sortData) - i - 1):\n",
    "        if sortData[j] > sortData[j + 1]:\n",
    "            sortData[j], sortData[j + 1] = sortData[j + 1], sortData[j]\n",
    "    print('{} 회전 결과 : {}'.format(i + 1, sortData))\n",
    "# print('정렬 결과 : {}'.format(sortData))"
   ]
  },
  {
   "cell_type": "code",
   "execution_count": 7,
   "metadata": {},
   "outputs": [
    {
     "name": "stdout",
     "output_type": "stream",
     "text": [
      "1 회전 결과 : [8, 4, 9, 3, 1]\n",
      "2 회전 결과 : [8, 9, 4, 3, 1]\n",
      "3 회전 결과 : [9, 8, 4, 3, 1]\n",
      "4 회전 결과 : [9, 8, 4, 3, 1]\n"
     ]
    }
   ],
   "source": [
    "sortData = [8, 3, 4, 9, 1]\n",
    "for i in range(len(sortData) - 1):\n",
    "    for j in range(len(sortData) - i - 1):\n",
    "        if sortData[j] < sortData[j + 1]:\n",
    "            sortData[j], sortData[j + 1] = sortData[j + 1], sortData[j]\n",
    "    print('{} 회전 결과 : {}'.format(i + 1, sortData))\n",
    "# print('정렬 결과 : {}'.format(sortData))"
   ]
  },
  {
   "cell_type": "code",
   "execution_count": 10,
   "metadata": {},
   "outputs": [
    {
     "name": "stdout",
     "output_type": "stream",
     "text": [
      "1 회전 결과 : [1, 3, 4, 8, 9]\n"
     ]
    }
   ],
   "source": [
    "# 버블 정렬은 데이터가 어느정도 정렬된 상태일 경우 정해진 회전을 모두 실행하지 않더라도 중간에 정렬이 완료되면 종료가 가능하다.\n",
    "sortData = [9, 1, 3, 4, 8]\n",
    "for i in range(len(sortData) - 1):\n",
    "    # 정렬 작업을 시작하기 전에 flag 변수를 True로 초기화 한다.\n",
    "    flag = True\n",
    "    for j in range(len(sortData) - i - 1):\n",
    "        if sortData[j] > sortData[j + 1]:\n",
    "            # 값 교환 작업이 이루어지면 정렬 작업이 진행중이라는 의미이다.\n",
    "            sortData[j], sortData[j + 1] = sortData[j + 1], sortData[j]\n",
    "            # 정렬 작업이 진행되면 flag 변수의 값을 False로 변경한다.\n",
    "            flag = False\n",
    "        # ===== if\n",
    "    # ===== for j => 회전 끝\n",
    "    if flag:\n",
    "        # flag 변수의 값이 True면 이미 리스트에 저장된 데디터가 정렬이 완료되어있다는 의미이므로 더 이상 반복하며 정렬할\n",
    "        # 필요가 없기 때문에 break 명령을 사용해서 반복을 중지한다.\n",
    "        break; # 반복을 중지(탈출)한다.\n",
    "    print('{} 회전 결과 : {}'.format(i + 1, sortData))\n",
    "# ===== for i => 정렬 끝\n",
    "# print('정렬 결과 : {}'.format(sortData))"
   ]
  },
  {
   "cell_type": "code",
   "execution_count": null,
   "metadata": {},
   "outputs": [],
   "source": []
  },
  {
   "cell_type": "code",
   "execution_count": null,
   "metadata": {},
   "outputs": [],
   "source": []
  },
  {
   "cell_type": "code",
   "execution_count": null,
   "metadata": {},
   "outputs": [],
   "source": []
  },
  {
   "cell_type": "code",
   "execution_count": null,
   "metadata": {},
   "outputs": [],
   "source": []
  }
 ],
 "metadata": {
  "kernelspec": {
   "display_name": "Python 3",
   "language": "python",
   "name": "python3"
  },
  "language_info": {
   "codemirror_mode": {
    "name": "ipython",
    "version": 3
   },
   "file_extension": ".py",
   "mimetype": "text/x-python",
   "name": "python",
   "nbconvert_exporter": "python",
   "pygments_lexer": "ipython3",
   "version": "3.6.8"
  }
 },
 "nbformat": 4,
 "nbformat_minor": 4
}
